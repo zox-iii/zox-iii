{
 "cells": [
  {
   "cell_type": "code",
   "execution_count": 6,
   "id": "7109b1f9",
   "metadata": {},
   "outputs": [],
   "source": [
    "#加载库\n",
    "import matplotlib.pyplot as plt\n",
    "import pandas as pd\n",
    "import numpy as np\n",
    "from sklearn import svm\n",
    "from sklearn.model_selection import train_test_split\n",
    "from sklearn.metrics import accuracy_score"
   ]
  },
  {
   "cell_type": "code",
   "execution_count": 7,
   "id": "c2996174",
   "metadata": {},
   "outputs": [],
   "source": [
    "#导入数据集\n",
    "data = np.loadtxt(open(\"diabetes_data_upload.csv\",\"rb\"),delimiter=\",\",skiprows=1)\n",
    "result = np.loadtxt(open(\"diabetes_data_upload_result.csv\",\"rb\"),delimiter=\",\",skiprows=1)"
   ]
  },
  {
   "cell_type": "code",
   "execution_count": 8,
   "id": "9fc54c4a",
   "metadata": {},
   "outputs": [],
   "source": [
    "#划分训练集、测试集\n",
    "train_data,test_data=train_test_split(data,random_state=1,train_size=0.7,test_size=0.3)\n",
    "train_label,test_label=train_test_split(result,random_state=1,train_size=0.7,test_size=0.3)"
   ]
  },
  {
   "cell_type": "code",
   "execution_count": 9,
   "id": "0d300a59",
   "metadata": {
    "scrolled": false
   },
   "outputs": [
    {
     "data": {
      "text/plain": [
       "SVC(C=1, gamma=10)"
      ]
     },
     "execution_count": 9,
     "metadata": {},
     "output_type": "execute_result"
    }
   ],
   "source": [
    "#模型构建svm\n",
    "classifier=svm.SVC(C=1,kernel='rbf',gamma=10,decision_function_shape='ovr')\n",
    "#classifier = svm.LinearSVC(C=1, loss='hinge', max_iter=1000)\n",
    "classifier.fit(train_data,train_label.ravel())"
   ]
  },
  {
   "cell_type": "code",
   "execution_count": 12,
   "id": "ba0ce521",
   "metadata": {},
   "outputs": [
    {
     "name": "stdout",
     "output_type": "stream",
     "text": [
      "train: 1.0\n",
      "test: 0.8910256410256411\n"
     ]
    }
   ],
   "source": [
    "#模型预测\n",
    "pre_train=classifier.predict(train_data)\n",
    "pre_test=classifier.predict(test_data)\n",
    "print(\"train:\",accuracy_score(train_label,pre_train))\n",
    "print(\"test:\",accuracy_score(test_label,pre_test))"
   ]
  },
  {
   "cell_type": "code",
   "execution_count": null,
   "id": "5a7e1f0d",
   "metadata": {},
   "outputs": [],
   "source": []
  }
 ],
 "metadata": {
  "kernelspec": {
   "display_name": "Python 3",
   "language": "python",
   "name": "python3"
  },
  "language_info": {
   "codemirror_mode": {
    "name": "ipython",
    "version": 3
   },
   "file_extension": ".py",
   "mimetype": "text/x-python",
   "name": "python",
   "nbconvert_exporter": "python",
   "pygments_lexer": "ipython3",
   "version": "3.8.8"
  }
 },
 "nbformat": 4,
 "nbformat_minor": 5
}
