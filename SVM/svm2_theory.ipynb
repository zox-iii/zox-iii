{
 "cells": [
  {
   "cell_type": "code",
   "execution_count": 38,
   "metadata": {},
   "outputs": [],
   "source": [
    "import numpy as np\n",
    "import pandas as pd\n",
    "from sklearn.datasets import load_iris  \n",
    "from sklearn.model_selection import  train_test_split\n",
    "import matplotlib.pyplot as plt\n",
    "## 功能是可以内嵌绘图，并且省略掉plt.show()\n",
    "%matplotlib inline     "
   ]
  },
  {
   "cell_type": "code",
   "execution_count": 51,
   "metadata": {},
   "outputs": [],
   "source": [
    "## 定义一个专门用于存储变量和数据的结构\n",
    "class SVM:\n",
    "    def __init__(self, max_iter=100, kernel='linear'):\n",
    "        self.max_iter = max_iter     # 设置最大迭代次数\n",
    "        self._kernel = kernel        # 设置内核\n",
    "        \n",
    "    ## 初始化参数\n",
    "    def init_args(self, features, labels):\n",
    "        self.m, self.n = features.shape     # 属性大小:m个数据、n个属性\n",
    "        self.X = features                   # 属性\n",
    "        self.Y = labels                     # 分类标签\n",
    "        self.b = 0.0                        # 阈值b 初始为0\n",
    "\n",
    "        # 将Ei保存在一个列表里\n",
    "        self.alpha = np.ones(self.m)        # 变量alpha初始化为1\n",
    "        self.E = [self._E(i) for i in range(self.m)]  # 设置 E\n",
    "        # 松弛变量\n",
    "        self.C = 0.9                        # 设置 C\n",
    "        \n",
    "    ## KKT条件\n",
    "    def _KKT(self, i):\n",
    "        y_g = self._g(i) * self.Y[i]       # 输入x的预测值和y的积\n",
    "        if self.alpha[i] == 0:\n",
    "            return y_g >= 1\n",
    "        elif 0 < self.alpha[i] < self.C:\n",
    "            return y_g == 1\n",
    "        else:\n",
    "            return y_g <= 1\n",
    "\n",
    "    ## g(x)预测值，输入xi（X[i]）\n",
    "    def _g(self, i):\n",
    "        r = self.b\n",
    "        for j in range(self.m):\n",
    "            r += self.alpha[j] * self.Y[j] * self.kernel(self.X[i], self.X[j])   # 预测值？\n",
    "        return r\n",
    "\n",
    "    ## 核函数\n",
    "    def kernel(self, x1, x2):\n",
    "        if self._kernel == 'linear':    # 线性核函数\n",
    "            return sum([x1[k] * x2[k] for k in range(self.n)])\n",
    "        elif self._kernel == 'poly':    # 多项式核函数\n",
    "            return (sum([x1[k] * x2[k] for k in range(self.n)]) + 1)**2    \n",
    "\n",
    "        return 0\n",
    "\n",
    "    ## E(x)为g(x)对输入x的预测值和y的差\n",
    "    def _E(self, i):\n",
    "        return self._g(i) - self.Y[i]\n",
    "    \n",
    "    ## 选择具有最大步长的 alpha j\n",
    "    def _init_alpha(self):\n",
    "        # 外层循环首先遍历所有满足0<a<C的样本点，检验是否满足KKT\n",
    "        index_list = [i for i in range(self.m) if 0 < self.alpha[i] < self.C]\n",
    "        # 否则遍历整个训练集\n",
    "        non_satisfy_list = [i for i in range(self.m) if i not in index_list]\n",
    "        index_list.extend(non_satisfy_list)\n",
    "        # \n",
    "        for i in index_list:\n",
    "            if self._KKT(i):\n",
    "                continue\n",
    "\n",
    "            E1 = self.E[i]\n",
    "            # 如果E1是正的，选择最小的；如果E1是负的，选择最大的\n",
    "            if E1 >= 0:\n",
    "                j = min(range(self.m), key=lambda x: self.E[x])   # 选择最小的\n",
    "            else:\n",
    "                j = max(range(self.m), key=lambda x: self.E[x])   # 选择最大的\n",
    "            return i, j\n",
    "    ## 比较alpha 和 L、H\n",
    "    def _compare(self, _alpha, L, H):\n",
    "        if _alpha > H:\n",
    "            return H\n",
    "        elif _alpha < L:\n",
    "            return L\n",
    "        else:\n",
    "            return _alpha\n",
    "    # 拟合\n",
    "    def fit(self, features, labels):\n",
    "        self.init_args(features, labels)   # 初始化参数\n",
    "        ## 开始迭代\n",
    "        for t in range(self.max_iter):\n",
    "            # start train\n",
    "            i1, i2 = self._init_alpha()    # 初始化alpha\n",
    "\n",
    "            # 计算alpha的边界\n",
    "            if self.Y[i1] == self.Y[i2]:\n",
    "                L = max(0, self.alpha[i1] + self.alpha[i2] - self.C)\n",
    "                H = min(self.C, self.alpha[i1] + self.alpha[i2])\n",
    "            else:\n",
    "                L = max(0, self.alpha[i2] - self.alpha[i1])\n",
    "                H = min(self.C, self.C + self.alpha[i2] - self.alpha[i1])\n",
    "\n",
    "            E1 = self.E[i1]\n",
    "            E2 = self.E[i2]\n",
    "            # 计算eta：eta=K11+K22-2K12（样本i1和i2的相似度）\n",
    "            eta = self.kernel(self.X[i1], self.X[i1]) + self.kernel(\n",
    "                self.X[i2],\n",
    "                self.X[i2]) - 2 * self.kernel(self.X[i1], self.X[i2])\n",
    "            if eta <= 0:\n",
    "                # print('eta <= 0')\n",
    "                continue\n",
    "\n",
    "            alpha2_new_unc = self.alpha[i2] + self.Y[i2] * (E1 - E2) / eta  #此处有修改，根据书上应该是E1 - E2，书上130-131页\n",
    "            alpha2_new = self._compare(alpha2_new_unc, L, H)   # 比较更新 alpha i2\n",
    "\n",
    "            alpha1_new = self.alpha[i1] + self.Y[i1] * self.Y[i2] * (self.alpha[i2] - alpha2_new)\n",
    "\n",
    "            b1_new = -E1 - self.Y[i1] * self.kernel(self.X[i1], self.X[i1]) * (\n",
    "                alpha1_new - self.alpha[i1]) - self.Y[i2] * self.kernel(\n",
    "                    self.X[i2],\n",
    "                    self.X[i1]) * (alpha2_new - self.alpha[i2]) + self.b\n",
    "            b2_new = -E2 - self.Y[i1] * self.kernel(self.X[i1], self.X[i2]) * (\n",
    "                alpha1_new - self.alpha[i1]) - self.Y[i2] * self.kernel(\n",
    "                    self.X[i2],\n",
    "                    self.X[i2]) * (alpha2_new - self.alpha[i2]) + self.b\n",
    "\n",
    "            if 0 < alpha1_new < self.C:\n",
    "                b_new = b1_new\n",
    "            elif 0 < alpha2_new < self.C:\n",
    "                b_new = b2_new\n",
    "            else:\n",
    "                # 选择中点\n",
    "                b_new = (b1_new + b2_new) / 2\n",
    "\n",
    "            # 更新参数alpha、b\n",
    "            self.alpha[i1] = alpha1_new\n",
    "            self.alpha[i2] = alpha2_new\n",
    "            self.b = b_new\n",
    "            # 更新alpha i1、i2的错误缓存\n",
    "            self.E[i1] = self._E(i1)\n",
    "            self.E[i2] = self._E(i2)\n",
    "        return 'train done!'\n",
    "    ## 预测值\n",
    "    def predict(self, data):\n",
    "        r = self.b                    # 阈值b\n",
    "        for i in range(self.m):\n",
    "            r += self.alpha[i] * self.Y[i] * self.kernel(data, self.X[i])    # b+alpha*y*kernel\n",
    "        return 1 if r > 0 else -1     # > 0 返回类别 1\n",
    "    ## 测试集\n",
    "    def score(self, X_test, y_test):\n",
    "        right_count = 0                        # 初始正确个数为 0\n",
    "        for i in range(len(X_test)):           # 遍历测试集数据\n",
    "            result = self.predict(X_test[i])   # 使用SVM预测\n",
    "            if result == y_test[i]:\n",
    "                right_count += 1               # 计算正确个数\n",
    "        return right_count / len(X_test)       # 计算得到正确率\n",
    "    ## ?\n",
    "    def _weight(self):\n",
    "        # linear model\n",
    "        yx = self.Y.reshape(-1, 1) * self.X\n",
    "        self.w = np.dot(yx.T, self.alpha)\n",
    "        return self.w"
   ]
  },
  {
   "cell_type": "code",
   "execution_count": 52,
   "metadata": {},
   "outputs": [],
   "source": [
    "X = np.loadtxt(open(\"diabetes_data_upload.csv\",\"rb\"),delimiter=\",\",skiprows=1)          # 读取属性 X\n",
    "y = np.loadtxt(open(\"diabetes_data_upload_result.csv\",\"rb\"),delimiter=\",\",skiprows=1)   # 读取分类标签 y\n",
    "X_train, X_test, y_train, y_test = train_test_split(X, y, test_size=0.3)   # 分割训练集、测试集"
   ]
  },
  {
   "cell_type": "code",
   "execution_count": 53,
   "metadata": {},
   "outputs": [
    {
     "data": {
      "text/plain": [
       "'train done!'"
      ]
     },
     "execution_count": 53,
     "metadata": {},
     "output_type": "execute_result"
    }
   ],
   "source": [
    "svm = SVM(max_iter=100)       # 建立模型\n",
    "svm.fit(X_train, y_train)     # 训练数据"
   ]
  },
  {
   "cell_type": "code",
   "execution_count": 54,
   "metadata": {},
   "outputs": [
    {
     "data": {
      "text/plain": [
       "0.5448717948717948"
      ]
     },
     "execution_count": 54,
     "metadata": {},
     "output_type": "execute_result"
    }
   ],
   "source": [
    "svm.score(X_test, y_test)     # 测试数据"
   ]
  },
  {
   "cell_type": "code",
   "execution_count": null,
   "metadata": {},
   "outputs": [],
   "source": []
  }
 ],
 "metadata": {
  "kernelspec": {
   "display_name": "Python 3",
   "language": "python",
   "name": "python3"
  },
  "language_info": {
   "codemirror_mode": {
    "name": "ipython",
    "version": 3
   },
   "file_extension": ".py",
   "mimetype": "text/x-python",
   "name": "python",
   "nbconvert_exporter": "python",
   "pygments_lexer": "ipython3",
   "version": "3.8.5"
  }
 },
 "nbformat": 4,
 "nbformat_minor": 4
}
